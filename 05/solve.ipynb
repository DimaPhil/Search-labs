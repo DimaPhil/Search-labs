{
 "cells": [
  {
   "cell_type": "code",
   "execution_count": 20,
   "metadata": {
    "collapsed": false
   },
   "outputs": [],
   "source": [
    "import pandas as pd\n",
    "import numpy as np\n",
    "import json\n",
    "import io"
   ]
  },
  {
   "cell_type": "code",
   "execution_count": 21,
   "metadata": {
    "collapsed": false
   },
   "outputs": [],
   "source": [
    "def load_file(filename):\n",
    "    data = []\n",
    "    with io.open(filename, 'r', encoding='utf8') as stream:\n",
    "        for line in stream.readlines():\n",
    "            data.append(json.loads(line))\n",
    "    return data"
   ]
  },
  {
   "cell_type": "code",
   "execution_count": 22,
   "metadata": {
    "collapsed": false
   },
   "outputs": [
    {
     "name": "stdout",
     "output_type": "stream",
     "text": [
      "Train and test loaded in memory\n"
     ]
    }
   ],
   "source": [
    "train_data = load_file('train_data.json')\n",
    "test_data = load_file('test_data.json')\n",
    "\n",
    "print('Train and test loaded in memory')"
   ]
  },
  {
   "cell_type": "code",
   "execution_count": 23,
   "metadata": {
    "collapsed": false
   },
   "outputs": [],
   "source": [
    "end_of_sentences = set()\n",
    "for paragraph in train_data:\n",
    "    for sentence in paragraph['Sentences']:\n",
    "        end_of_sentences.add(sentence[-1])"
   ]
  },
  {
   "cell_type": "code",
   "execution_count": 24,
   "metadata": {
    "collapsed": false
   },
   "outputs": [
    {
     "name": "stdout",
     "output_type": "stream",
     "text": [
      "!|\"|…|.|»|?\n"
     ]
    }
   ],
   "source": [
    "print('|'.join(end_of_sentences))"
   ]
  },
  {
   "cell_type": "code",
   "execution_count": 25,
   "metadata": {
    "collapsed": false
   },
   "outputs": [],
   "source": [
    "from collections import defaultdict\n",
    "\n",
    "good_ends = [u'!', u'…', u'.', u'?', u'\"', u'»']\n",
    "#why initially not all ends of sentences were included?\n",
    "\n",
    "good_end_index = defaultdict(lambda: -1)\n",
    "for i, end in enumerate(good_ends):\n",
    "    good_end_index[end] = i\n"
   ]
  },
  {
   "cell_type": "code",
   "execution_count": 26,
   "metadata": {
    "collapsed": false
   },
   "outputs": [],
   "source": [
    "window_size = 3\n",
    "\n",
    "from collections import namedtuple\n",
    "TrainItem = namedtuple('TrainItem', ['text_before', 'symbol', 'text_after','is_end'])\n",
    "\n",
    "BEFORE_SYMBOL = '^'\n",
    "AFTER_SYMBOL = '_'\n",
    "\n",
    "def get_before_text(paragraph, i):\n",
    "    before_text = paragraph[max(0, i - window_size):i]\n",
    "    before_text = (BEFORE_SYMBOL * (window_size - len(before_text))) + before_text\n",
    "    return before_text\n",
    "\n",
    "def get_after_text(paragraph, i):\n",
    "    after_text = paragraph[i + 1:i + window_size + 1]\n",
    "    after_text = after_text + (AFTER_SYMBOL * (window_size - len(after_text)))\n",
    "    return after_text\n",
    "        \n",
    "def parse_train_instance(paragraph, sentences):\n",
    "    is_index_end = [False for _ in range(len(paragraph))]\n",
    "    current_sum = 0\n",
    "    for sentence in sentences:\n",
    "        current_sum += len(sentence)\n",
    "        if current_sum > len(paragraph):\n",
    "            break\n",
    "        is_index_end[current_sum - 1] = True\n",
    "        current_sum += 1\n",
    "    for i in range(len(paragraph)):\n",
    "        if paragraph[i] not in good_ends:\n",
    "            continue\n",
    "        before_text = get_before_text(paragraph, i)\n",
    "        after_text = get_after_text(paragraph, i)\n",
    "        yield TrainItem(before_text, paragraph[i], after_text, is_index_end[i])"
   ]
  },
  {
   "cell_type": "code",
   "execution_count": 27,
   "metadata": {
    "collapsed": false
   },
   "outputs": [],
   "source": [
    "trains = []\n",
    "for train in train_data:\n",
    "    paragraph_trains = list(parse_train_instance(train['Paragraph'], train['Sentences']))\n",
    "    trains.extend(paragraph_trains)"
   ]
  },
  {
   "cell_type": "code",
   "execution_count": 28,
   "metadata": {
    "collapsed": false,
    "scrolled": true
   },
   "outputs": [
    {
     "name": "stdout",
     "output_type": "stream",
     "text": [
      "340\n"
     ]
    }
   ],
   "source": [
    "all_windows_symbols = list(set(''.join(t.text_before + t.symbol + t.text_after for t in trains) +\\\n",
    "                               BEFORE_SYMBOL + AFTER_SYMBOL))\n",
    "print(len(all_windows_symbols))\n",
    "window_symbol_index = defaultdict(lambda: -1)\n",
    "for i, symbol in enumerate(all_windows_symbols):\n",
    "    window_symbol_index[symbol] = i"
   ]
  },
  {
   "cell_type": "code",
   "execution_count": 29,
   "metadata": {
    "collapsed": true
   },
   "outputs": [],
   "source": [
    "def calculate_features(item):\n",
    "    features = []\n",
    "    features.extend([0] * len(good_ends))\n",
    "    assert(good_end_index[item.symbol] != -1)\n",
    "    features[good_end_index[item.symbol]] = 1\n",
    "    for word in [item.text_before, item.text_after]:\n",
    "        cnt = [0] * len(all_windows_symbols)\n",
    "        for symbol in word:\n",
    "            features.append(1 if symbol.upper() == symbol else 0)\n",
    "            features.append(1 if symbol.isalpha() else 0)\n",
    "            features.append(1 if symbol in good_ends else 0)\n",
    "            if symbol in window_symbol_index:\n",
    "                cnt[window_symbol_index[symbol]] += 1\n",
    "        features.extend(cnt)\n",
    "    return features"
   ]
  },
  {
   "cell_type": "code",
   "execution_count": 30,
   "metadata": {
    "collapsed": false
   },
   "outputs": [
    {
     "name": "stdout",
     "output_type": "stream",
     "text": [
      "len(X) = 91811, len(Y) = 91811\n",
      "Features and labels calculated, starting training...\n",
      "Training finished!\n"
     ]
    }
   ],
   "source": [
    "from sklearn.svm import SVC\n",
    "from sklearn.linear_model import SGDClassifier\n",
    " \n",
    "X = list(map(calculate_features, trains))\n",
    "Y = list(map(lambda t: 1 if t.is_end else 0, trains))\n",
    "print('len(X) = %d, len(Y) = %d' % (len(X), len(Y)))\n",
    "print('Features and labels calculated, starting training...')\n",
    "clf = SGDClassifier()\n",
    "clf.fit(X, Y)\n",
    "print('Training finished!')"
   ]
  },
  {
   "cell_type": "code",
   "execution_count": 31,
   "metadata": {
    "collapsed": true
   },
   "outputs": [],
   "source": [
    "def parse_test_instance(paragraph, index):\n",
    "    before_text = get_before_text(paragraph, index)\n",
    "    after_text = get_after_text(paragraph, index)\n",
    "    return TrainItem(before_text, paragraph[index], after_text, True)"
   ]
  },
  {
   "cell_type": "code",
   "execution_count": 32,
   "metadata": {
    "collapsed": true
   },
   "outputs": [],
   "source": [
    "test_size = 26476\n",
    "out_data = np.zeros((test_size, 1))"
   ]
  },
  {
   "cell_type": "code",
   "execution_count": 33,
   "metadata": {
    "collapsed": false
   },
   "outputs": [],
   "source": [
    "for p in test_data:\n",
    "    paragraph = p['Paragraph']\n",
    "    for cand in p['Marks']:\n",
    "        item = parse_test_instance(paragraph, cand['Pos'])\n",
    "        prediction = clf.predict([calculate_features(item)])\n",
    "        out_data[cand['Index'] - 1] = prediction[0]"
   ]
  },
  {
   "cell_type": "code",
   "execution_count": 34,
   "metadata": {
    "collapsed": true
   },
   "outputs": [],
   "source": [
    "df = pd.DataFrame(out_data, columns=['Mark'], index=range(1, test_size + 1))\n",
    "df.index.name = 'Id'"
   ]
  },
  {
   "cell_type": "code",
   "execution_count": 35,
   "metadata": {
    "collapsed": false
   },
   "outputs": [
    {
     "name": "stdout",
     "output_type": "stream",
     "text": [
      "Submission is ready\n"
     ]
    }
   ],
   "source": [
    "df.to_csv(\"submission.csv\")\n",
    "print('Submission is ready')"
   ]
  },
  {
   "cell_type": "code",
   "execution_count": null,
   "metadata": {
    "collapsed": true
   },
   "outputs": [],
   "source": []
  }
 ],
 "metadata": {
  "kernelspec": {
   "display_name": "Python 2",
   "language": "python",
   "name": "python2"
  },
  "language_info": {
   "codemirror_mode": {
    "name": "ipython",
    "version": 2
   },
   "file_extension": ".py",
   "mimetype": "text/x-python",
   "name": "python",
   "nbconvert_exporter": "python",
   "pygments_lexer": "ipython2",
   "version": "2.7.9"
  }
 },
 "nbformat": 4,
 "nbformat_minor": 0
}
